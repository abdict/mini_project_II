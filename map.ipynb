{
 "cells": [
  {
   "cell_type": "code",
   "execution_count": 1,
   "metadata": {},
   "outputs": [],
   "source": [
    "import pandas as pd\n",
    "import json as js\n",
    "import os"
   ]
  },
  {
   "cell_type": "code",
   "execution_count": 5,
   "metadata": {},
   "outputs": [],
   "source": [
    "with open('restaurants_kerri_gpl.json', 'r') as f:\n",
    "    g_data = js.load(f)\n",
    "df = pd.json_normalize(g_data, record_path='results', errors='ignore')\n",
    "df10 = df[['name', 'geometry.location.lat','geometry.location.lng', 'rating']].sort_values(['rating'], ascending=False).head(10)\n",
    "df10.rename(columns={'geometry.location.lat': 'lat', 'geometry.location.lng': 'lng'}, inplace=True)\n",
    "\n",
    "df10.to_csv('top10loc.csv')"
   ]
  },
  {
   "cell_type": "code",
   "execution_count": 3,
   "metadata": {},
   "outputs": [],
   "source": [
    "api_key = os.environ['GPLACE_KEY']\n",
    "gmap = gmplot.GoogleMapPlotter(37.7670, -122.4385, 13, apikey=api_key, map_type='hybrid')\n",
    "gmap.draw(\"map.html\")"
   ]
  },
  {
   "cell_type": "code",
   "execution_count": 9,
   "metadata": {},
   "outputs": [],
   "source": []
  },
  {
   "cell_type": "code",
   "execution_count": null,
   "metadata": {},
   "outputs": [],
   "source": []
  }
 ],
 "metadata": {
  "kernelspec": {
   "display_name": "lhl_work",
   "language": "python",
   "name": "lhl_work"
  },
  "language_info": {
   "codemirror_mode": {
    "name": "ipython",
    "version": 3
   },
   "file_extension": ".py",
   "mimetype": "text/x-python",
   "name": "python",
   "nbconvert_exporter": "python",
   "pygments_lexer": "ipython3",
   "version": "3.10.0"
  },
  "orig_nbformat": 4
 },
 "nbformat": 4,
 "nbformat_minor": 2
}
