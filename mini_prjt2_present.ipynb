{
 "cells": [
  {
   "cell_type": "markdown",
   "metadata": {},
   "source": [
    "# Mini Project II Presentation\n",
    "\n",
    "##### Chao Si\n",
    "##### March 18, 2022"
   ]
  },
  {
   "cell_type": "markdown",
   "metadata": {},
   "source": [
    "\n",
    "\n",
    "### Purpose\n",
    "* The main goal of this mini-project is to build the database of restaurants within walkable distance in the area of Kerrisdale, Vancouver and compare which API has better coverage.\n",
    "\n",
    "* Combine and practice skills in:\n",
    "    * APIs\n",
    "    * Databases (SQL)\n",
    "    * Pandas\n",
    "    * Data wrangling"
   ]
  },
  {
   "cell_type": "markdown",
   "metadata": {},
   "source": [
    "### Task\n",
    "* Retrieve the data about various restaurants in the area through different APIs (FOURSQUARE, YELP, GOOGLE).\n",
    "\n",
    "* Create own SQLite database and store the data about the POIs.\n",
    "\n",
    "* Compare the results and determine which API has a better coverage of the area.\n",
    "\n",
    "* Choose the top 10 POIs based on average rating.\n",
    "\n",
    "* (Stretch) A bit fun with traveling salesman problem (TSP)."
   ]
  },
  {
   "cell_type": "markdown",
   "metadata": {},
   "source": [
    "### Results\n",
    "* SQL Tables created by data collected from different APIs\n",
    "* Top 10 restaurants in Kerrisdale from Google Place mapped\n",
    "* TSP using Google's ORTools\n",
    "    * Objective: 9303 meters  \\\n",
    "        Route for vehicle 0:  \\\n",
    "        Route order (complte loop): 0 -> 2 -> 3 -> 5 -> 9 -> 8 -> 6 -> 7 -> 4 -> 1 -> 0"
   ]
  },
  {
   "cell_type": "code",
   "execution_count": 90,
   "metadata": {},
   "outputs": [
    {
     "data": {
      "application/vnd.jupyter.widget-view+json": {
       "model_id": "d23c200ac7004dd4afe6b6d23722c00f",
       "version_major": 2,
       "version_minor": 0
      },
      "text/plain": [
       "Figure(layout=FigureLayout(border='1px solid black', height='900px', padding='1px', width='1200px'))"
      ]
     },
     "metadata": {},
     "output_type": "display_data"
    }
   ],
   "source": [
    "import gmaps\n",
    "import gmaps.datasets\n",
    "import os\n",
    "import pandas as pd\n",
    "\n",
    "api_key = os.environ['GPLACE_KEY']\n",
    "gmaps.configure(api_key)\n",
    "t10_df = pd.read_csv('top10loc.csv')\n",
    "t10_df.insert(0, column='rank', value=[0, 1, 2, 3, 4, 5, 6, 7, 8, 9])\n",
    "\n",
    "figure_layout = {\n",
    "    'width': '1200px',\n",
    "    'height': '900px',\n",
    "    'border': '1px solid black',\n",
    "    'padding': '1px'\n",
    "}\n",
    "\n",
    "t10_locations = [\n",
    "    (49.236033,-123.155774),\n",
    "    (49.233200,-123.155448),\n",
    "    (49.237795,-123.155628),\n",
    "    (49.242562,-123.170108),\n",
    "    (49.219346,-123.149315),\n",
    "    (49.234776,-123.159282),\n",
    "    (49.234182,-123.140192),\n",
    "    (49.233933,-123.139953),\n",
    "    (49.233898,-123.154094),\n",
    "    (49.234785,-123.156730)\n",
    "]\n",
    "t10_ranks = t10_df.index\n",
    "t10_names = t10_df['name']\n",
    "locations = t10_df[['lat', 'lng']]\n",
    "weights = t10_df['rating']\n",
    "\n",
    "fig = gmaps.figure(map_type='HYBRID', layout=figure_layout)\n",
    "fig.add_layer(gmaps.heatmap_layer(locations, weights=weights))\n",
    "# fig.add_layer(gmaps.symbol_layer(locations))\n",
    "# fig.add_layer(gmaps.marker_layer((49.236033,-123.155774)))\n",
    "fig"
   ]
  },
  {
   "cell_type": "code",
   "execution_count": 91,
   "metadata": {},
   "outputs": [
    {
     "data": {
      "text/html": [
       "<div style=\"width:100%;\"><div style=\"position:relative;width:100%;height:0;padding-bottom:60%;\"><span style=\"color:#565656\">Make this Notebook Trusted to load map: File -> Trust Notebook</span><iframe src=\"about:blank\" style=\"position:absolute;width:100%;height:100%;left:0;top:0;border:none !important;\" data-html=%3C%21DOCTYPE%20html%3E%0A%3Chead%3E%20%20%20%20%0A%20%20%20%20%3Cmeta%20http-equiv%3D%22content-type%22%20content%3D%22text/html%3B%20charset%3DUTF-8%22%20/%3E%0A%20%20%20%20%0A%20%20%20%20%20%20%20%20%3Cscript%3E%0A%20%20%20%20%20%20%20%20%20%20%20%20L_NO_TOUCH%20%3D%20false%3B%0A%20%20%20%20%20%20%20%20%20%20%20%20L_DISABLE_3D%20%3D%20false%3B%0A%20%20%20%20%20%20%20%20%3C/script%3E%0A%20%20%20%20%0A%20%20%20%20%3Cstyle%3Ehtml%2C%20body%20%7Bwidth%3A%20100%25%3Bheight%3A%20100%25%3Bmargin%3A%200%3Bpadding%3A%200%3B%7D%3C/style%3E%0A%20%20%20%20%3Cstyle%3E%23map%20%7Bposition%3Aabsolute%3Btop%3A0%3Bbottom%3A0%3Bright%3A0%3Bleft%3A0%3B%7D%3C/style%3E%0A%20%20%20%20%3Cscript%20src%3D%22https%3A//cdn.jsdelivr.net/npm/leaflet%401.6.0/dist/leaflet.js%22%3E%3C/script%3E%0A%20%20%20%20%3Cscript%20src%3D%22https%3A//code.jquery.com/jquery-1.12.4.min.js%22%3E%3C/script%3E%0A%20%20%20%20%3Cscript%20src%3D%22https%3A//maxcdn.bootstrapcdn.com/bootstrap/3.2.0/js/bootstrap.min.js%22%3E%3C/script%3E%0A%20%20%20%20%3Cscript%20src%3D%22https%3A//cdnjs.cloudflare.com/ajax/libs/Leaflet.awesome-markers/2.0.2/leaflet.awesome-markers.js%22%3E%3C/script%3E%0A%20%20%20%20%3Clink%20rel%3D%22stylesheet%22%20href%3D%22https%3A//cdn.jsdelivr.net/npm/leaflet%401.6.0/dist/leaflet.css%22/%3E%0A%20%20%20%20%3Clink%20rel%3D%22stylesheet%22%20href%3D%22https%3A//maxcdn.bootstrapcdn.com/bootstrap/3.2.0/css/bootstrap.min.css%22/%3E%0A%20%20%20%20%3Clink%20rel%3D%22stylesheet%22%20href%3D%22https%3A//maxcdn.bootstrapcdn.com/bootstrap/3.2.0/css/bootstrap-theme.min.css%22/%3E%0A%20%20%20%20%3Clink%20rel%3D%22stylesheet%22%20href%3D%22https%3A//maxcdn.bootstrapcdn.com/font-awesome/4.6.3/css/font-awesome.min.css%22/%3E%0A%20%20%20%20%3Clink%20rel%3D%22stylesheet%22%20href%3D%22https%3A//cdnjs.cloudflare.com/ajax/libs/Leaflet.awesome-markers/2.0.2/leaflet.awesome-markers.css%22/%3E%0A%20%20%20%20%3Clink%20rel%3D%22stylesheet%22%20href%3D%22https%3A//cdn.jsdelivr.net/gh/python-visualization/folium/folium/templates/leaflet.awesome.rotate.min.css%22/%3E%0A%20%20%20%20%0A%20%20%20%20%20%20%20%20%20%20%20%20%3Cmeta%20name%3D%22viewport%22%20content%3D%22width%3Ddevice-width%2C%0A%20%20%20%20%20%20%20%20%20%20%20%20%20%20%20%20initial-scale%3D1.0%2C%20maximum-scale%3D1.0%2C%20user-scalable%3Dno%22%20/%3E%0A%20%20%20%20%20%20%20%20%20%20%20%20%3Cstyle%3E%0A%20%20%20%20%20%20%20%20%20%20%20%20%20%20%20%20%23map_882caf9c518b43208efa7271e20f3add%20%7B%0A%20%20%20%20%20%20%20%20%20%20%20%20%20%20%20%20%20%20%20%20position%3A%20relative%3B%0A%20%20%20%20%20%20%20%20%20%20%20%20%20%20%20%20%20%20%20%20width%3A%20100.0%25%3B%0A%20%20%20%20%20%20%20%20%20%20%20%20%20%20%20%20%20%20%20%20height%3A%20100.0%25%3B%0A%20%20%20%20%20%20%20%20%20%20%20%20%20%20%20%20%20%20%20%20left%3A%200.0%25%3B%0A%20%20%20%20%20%20%20%20%20%20%20%20%20%20%20%20%20%20%20%20top%3A%200.0%25%3B%0A%20%20%20%20%20%20%20%20%20%20%20%20%20%20%20%20%7D%0A%20%20%20%20%20%20%20%20%20%20%20%20%3C/style%3E%0A%20%20%20%20%20%20%20%20%0A%3C/head%3E%0A%3Cbody%3E%20%20%20%20%0A%20%20%20%20%0A%20%20%20%20%20%20%20%20%20%20%20%20%3Cdiv%20class%3D%22folium-map%22%20id%3D%22map_882caf9c518b43208efa7271e20f3add%22%20%3E%3C/div%3E%0A%20%20%20%20%20%20%20%20%0A%3C/body%3E%0A%3Cscript%3E%20%20%20%20%0A%20%20%20%20%0A%20%20%20%20%20%20%20%20%20%20%20%20var%20map_882caf9c518b43208efa7271e20f3add%20%3D%20L.map%28%0A%20%20%20%20%20%20%20%20%20%20%20%20%20%20%20%20%22map_882caf9c518b43208efa7271e20f3add%22%2C%0A%20%20%20%20%20%20%20%20%20%20%20%20%20%20%20%20%7B%0A%20%20%20%20%20%20%20%20%20%20%20%20%20%20%20%20%20%20%20%20center%3A%20%5B49.234456%2C%20-123.155144%5D%2C%0A%20%20%20%20%20%20%20%20%20%20%20%20%20%20%20%20%20%20%20%20crs%3A%20L.CRS.EPSG3857%2C%0A%20%20%20%20%20%20%20%20%20%20%20%20%20%20%20%20%20%20%20%20zoom%3A%2014%2C%0A%20%20%20%20%20%20%20%20%20%20%20%20%20%20%20%20%20%20%20%20zoomControl%3A%20true%2C%0A%20%20%20%20%20%20%20%20%20%20%20%20%20%20%20%20%20%20%20%20preferCanvas%3A%20false%2C%0A%20%20%20%20%20%20%20%20%20%20%20%20%20%20%20%20%7D%0A%20%20%20%20%20%20%20%20%20%20%20%20%29%3B%0A%0A%20%20%20%20%20%20%20%20%20%20%20%20%0A%0A%20%20%20%20%20%20%20%20%0A%20%20%20%20%0A%20%20%20%20%20%20%20%20%20%20%20%20var%20tile_layer_afaad09aeeeb41a583f18f0fb91fb068%20%3D%20L.tileLayer%28%0A%20%20%20%20%20%20%20%20%20%20%20%20%20%20%20%20%22https%3A//%7Bs%7D.tile.openstreetmap.org/%7Bz%7D/%7Bx%7D/%7By%7D.png%22%2C%0A%20%20%20%20%20%20%20%20%20%20%20%20%20%20%20%20%7B%22attribution%22%3A%20%22Data%20by%20%5Cu0026copy%3B%20%5Cu003ca%20href%3D%5C%22http%3A//openstreetmap.org%5C%22%5Cu003eOpenStreetMap%5Cu003c/a%5Cu003e%2C%20under%20%5Cu003ca%20href%3D%5C%22http%3A//www.openstreetmap.org/copyright%5C%22%5Cu003eODbL%5Cu003c/a%5Cu003e.%22%2C%20%22detectRetina%22%3A%20false%2C%20%22maxNativeZoom%22%3A%2018%2C%20%22maxZoom%22%3A%2018%2C%20%22minZoom%22%3A%200%2C%20%22noWrap%22%3A%20false%2C%20%22opacity%22%3A%201%2C%20%22subdomains%22%3A%20%22abc%22%2C%20%22tms%22%3A%20false%7D%0A%20%20%20%20%20%20%20%20%20%20%20%20%29.addTo%28map_882caf9c518b43208efa7271e20f3add%29%3B%0A%20%20%20%20%20%20%20%20%0A%20%20%20%20%0A%20%20%20%20%20%20%20%20%20%20%20%20var%20marker_0b1bbf5fb5b844c39ba41f3890a7f305%20%3D%20L.marker%28%0A%20%20%20%20%20%20%20%20%20%20%20%20%20%20%20%20%5B49.2360333%2C%20-123.1557741%5D%2C%0A%20%20%20%20%20%20%20%20%20%20%20%20%20%20%20%20%7B%7D%0A%20%20%20%20%20%20%20%20%20%20%20%20%29.addTo%28map_882caf9c518b43208efa7271e20f3add%29%3B%0A%20%20%20%20%20%20%20%20%0A%20%20%20%20%0A%20%20%20%20%20%20%20%20var%20popup_6d16bf8fe2004b738d6a5dfd3adba529%20%3D%20L.popup%28%7B%22maxWidth%22%3A%20%22100%25%22%7D%29%3B%0A%0A%20%20%20%20%20%20%20%20%0A%20%20%20%20%20%20%20%20%20%20%20%20var%20html_5a6c50088f504463890cb69101b2299c%20%3D%20%24%28%60%3Cdiv%20id%3D%22html_5a6c50088f504463890cb69101b2299c%22%20style%3D%22width%3A%20100.0%25%3B%20height%3A%20100.0%25%3B%22%3EHanppy%20to%20go%20vancouver%3C/div%3E%60%29%5B0%5D%3B%0A%20%20%20%20%20%20%20%20%20%20%20%20popup_6d16bf8fe2004b738d6a5dfd3adba529.setContent%28html_5a6c50088f504463890cb69101b2299c%29%3B%0A%20%20%20%20%20%20%20%20%0A%0A%20%20%20%20%20%20%20%20marker_0b1bbf5fb5b844c39ba41f3890a7f305.bindPopup%28popup_6d16bf8fe2004b738d6a5dfd3adba529%29%0A%20%20%20%20%20%20%20%20%3B%0A%0A%20%20%20%20%20%20%20%20%0A%20%20%20%20%0A%20%20%20%20%0A%20%20%20%20%20%20%20%20%20%20%20%20marker_0b1bbf5fb5b844c39ba41f3890a7f305.bindTooltip%28%0A%20%20%20%20%20%20%20%20%20%20%20%20%20%20%20%20%60%3Cdiv%3E%0A%20%20%20%20%20%20%20%20%20%20%20%20%20%20%20%20%20%20%20%20%200%0A%20%20%20%20%20%20%20%20%20%20%20%20%20%20%20%20%20%3C/div%3E%60%2C%0A%20%20%20%20%20%20%20%20%20%20%20%20%20%20%20%20%7B%22sticky%22%3A%20true%7D%0A%20%20%20%20%20%20%20%20%20%20%20%20%29%3B%0A%20%20%20%20%20%20%20%20%0A%20%20%20%20%0A%20%20%20%20%20%20%20%20%20%20%20%20var%20marker_45d114eb2c3e4137aeab21174d12d817%20%3D%20L.marker%28%0A%20%20%20%20%20%20%20%20%20%20%20%20%20%20%20%20%5B49.2332003%2C%20-123.155448%5D%2C%0A%20%20%20%20%20%20%20%20%20%20%20%20%20%20%20%20%7B%7D%0A%20%20%20%20%20%20%20%20%20%20%20%20%29.addTo%28map_882caf9c518b43208efa7271e20f3add%29%3B%0A%20%20%20%20%20%20%20%20%0A%20%20%20%20%0A%20%20%20%20%20%20%20%20var%20popup_ab6f060a09b44beba514fa3752b6d38d%20%3D%20L.popup%28%7B%22maxWidth%22%3A%20%22100%25%22%7D%29%3B%0A%0A%20%20%20%20%20%20%20%20%0A%20%20%20%20%20%20%20%20%20%20%20%20var%20html_76dfe994bfc54cf29f239b0befb2e880%20%3D%20%24%28%60%3Cdiv%20id%3D%22html_76dfe994bfc54cf29f239b0befb2e880%22%20style%3D%22width%3A%20100.0%25%3B%20height%3A%20100.0%25%3B%22%3EPachamami%20Foodtruck%3C/div%3E%60%29%5B0%5D%3B%0A%20%20%20%20%20%20%20%20%20%20%20%20popup_ab6f060a09b44beba514fa3752b6d38d.setContent%28html_76dfe994bfc54cf29f239b0befb2e880%29%3B%0A%20%20%20%20%20%20%20%20%0A%0A%20%20%20%20%20%20%20%20marker_45d114eb2c3e4137aeab21174d12d817.bindPopup%28popup_ab6f060a09b44beba514fa3752b6d38d%29%0A%20%20%20%20%20%20%20%20%3B%0A%0A%20%20%20%20%20%20%20%20%0A%20%20%20%20%0A%20%20%20%20%0A%20%20%20%20%20%20%20%20%20%20%20%20marker_45d114eb2c3e4137aeab21174d12d817.bindTooltip%28%0A%20%20%20%20%20%20%20%20%20%20%20%20%20%20%20%20%60%3Cdiv%3E%0A%20%20%20%20%20%20%20%20%20%20%20%20%20%20%20%20%20%20%20%20%201%0A%20%20%20%20%20%20%20%20%20%20%20%20%20%20%20%20%20%3C/div%3E%60%2C%0A%20%20%20%20%20%20%20%20%20%20%20%20%20%20%20%20%7B%22sticky%22%3A%20true%7D%0A%20%20%20%20%20%20%20%20%20%20%20%20%29%3B%0A%20%20%20%20%20%20%20%20%0A%20%20%20%20%0A%20%20%20%20%20%20%20%20%20%20%20%20var%20marker_f12bb71a731d42d291398b13e6ee04fb%20%3D%20L.marker%28%0A%20%20%20%20%20%20%20%20%20%20%20%20%20%20%20%20%5B49.2377955%2C%20-123.1556282%5D%2C%0A%20%20%20%20%20%20%20%20%20%20%20%20%20%20%20%20%7B%7D%0A%20%20%20%20%20%20%20%20%20%20%20%20%29.addTo%28map_882caf9c518b43208efa7271e20f3add%29%3B%0A%20%20%20%20%20%20%20%20%0A%20%20%20%20%0A%20%20%20%20%20%20%20%20var%20popup_a72f398f19b54dada2f027060f4998d7%20%3D%20L.popup%28%7B%22maxWidth%22%3A%20%22100%25%22%7D%29%3B%0A%0A%20%20%20%20%20%20%20%20%0A%20%20%20%20%20%20%20%20%20%20%20%20var%20html_f9e9454c92cd4f9d86c81a727c7b4697%20%3D%20%24%28%60%3Cdiv%20id%3D%22html_f9e9454c92cd4f9d86c81a727c7b4697%22%20style%3D%22width%3A%20100.0%25%3B%20height%3A%20100.0%25%3B%22%3ESushi%20Time%3C/div%3E%60%29%5B0%5D%3B%0A%20%20%20%20%20%20%20%20%20%20%20%20popup_a72f398f19b54dada2f027060f4998d7.setContent%28html_f9e9454c92cd4f9d86c81a727c7b4697%29%3B%0A%20%20%20%20%20%20%20%20%0A%0A%20%20%20%20%20%20%20%20marker_f12bb71a731d42d291398b13e6ee04fb.bindPopup%28popup_a72f398f19b54dada2f027060f4998d7%29%0A%20%20%20%20%20%20%20%20%3B%0A%0A%20%20%20%20%20%20%20%20%0A%20%20%20%20%0A%20%20%20%20%0A%20%20%20%20%20%20%20%20%20%20%20%20marker_f12bb71a731d42d291398b13e6ee04fb.bindTooltip%28%0A%20%20%20%20%20%20%20%20%20%20%20%20%20%20%20%20%60%3Cdiv%3E%0A%20%20%20%20%20%20%20%20%20%20%20%20%20%20%20%20%20%20%20%20%202%0A%20%20%20%20%20%20%20%20%20%20%20%20%20%20%20%20%20%3C/div%3E%60%2C%0A%20%20%20%20%20%20%20%20%20%20%20%20%20%20%20%20%7B%22sticky%22%3A%20true%7D%0A%20%20%20%20%20%20%20%20%20%20%20%20%29%3B%0A%20%20%20%20%20%20%20%20%0A%20%20%20%20%0A%20%20%20%20%20%20%20%20%20%20%20%20var%20marker_3d06b5d37d3e49d8b03c0213a6b7d796%20%3D%20L.marker%28%0A%20%20%20%20%20%20%20%20%20%20%20%20%20%20%20%20%5B49.24256150000001%2C%20-123.1701078%5D%2C%0A%20%20%20%20%20%20%20%20%20%20%20%20%20%20%20%20%7B%7D%0A%20%20%20%20%20%20%20%20%20%20%20%20%29.addTo%28map_882caf9c518b43208efa7271e20f3add%29%3B%0A%20%20%20%20%20%20%20%20%0A%20%20%20%20%0A%20%20%20%20%20%20%20%20var%20popup_23a820cf82044bf98c2780ce9a64ecab%20%3D%20L.popup%28%7B%22maxWidth%22%3A%20%22100%25%22%7D%29%3B%0A%0A%20%20%20%20%20%20%20%20%0A%20%20%20%20%20%20%20%20%20%20%20%20var%20html_4350c94fca654a25bced20e9f0ee6f02%20%3D%20%24%28%60%3Cdiv%20id%3D%22html_4350c94fca654a25bced20e9f0ee6f02%22%20style%3D%22width%3A%20100.0%25%3B%20height%3A%20100.0%25%3B%22%3EBIGSBY%20THE%20BAKEHOUSE%3C/div%3E%60%29%5B0%5D%3B%0A%20%20%20%20%20%20%20%20%20%20%20%20popup_23a820cf82044bf98c2780ce9a64ecab.setContent%28html_4350c94fca654a25bced20e9f0ee6f02%29%3B%0A%20%20%20%20%20%20%20%20%0A%0A%20%20%20%20%20%20%20%20marker_3d06b5d37d3e49d8b03c0213a6b7d796.bindPopup%28popup_23a820cf82044bf98c2780ce9a64ecab%29%0A%20%20%20%20%20%20%20%20%3B%0A%0A%20%20%20%20%20%20%20%20%0A%20%20%20%20%0A%20%20%20%20%0A%20%20%20%20%20%20%20%20%20%20%20%20marker_3d06b5d37d3e49d8b03c0213a6b7d796.bindTooltip%28%0A%20%20%20%20%20%20%20%20%20%20%20%20%20%20%20%20%60%3Cdiv%3E%0A%20%20%20%20%20%20%20%20%20%20%20%20%20%20%20%20%20%20%20%20%203%0A%20%20%20%20%20%20%20%20%20%20%20%20%20%20%20%20%20%3C/div%3E%60%2C%0A%20%20%20%20%20%20%20%20%20%20%20%20%20%20%20%20%7B%22sticky%22%3A%20true%7D%0A%20%20%20%20%20%20%20%20%20%20%20%20%29%3B%0A%20%20%20%20%20%20%20%20%0A%20%20%20%20%0A%20%20%20%20%20%20%20%20%20%20%20%20var%20marker_303215ff06e742949dc1da5b1193aa1b%20%3D%20L.marker%28%0A%20%20%20%20%20%20%20%20%20%20%20%20%20%20%20%20%5B49.2193461%2C%20-123.1493145%5D%2C%0A%20%20%20%20%20%20%20%20%20%20%20%20%20%20%20%20%7B%7D%0A%20%20%20%20%20%20%20%20%20%20%20%20%29.addTo%28map_882caf9c518b43208efa7271e20f3add%29%3B%0A%20%20%20%20%20%20%20%20%0A%20%20%20%20%0A%20%20%20%20%20%20%20%20var%20popup_b68237a2f3724becb837ed39f12a8d13%20%3D%20L.popup%28%7B%22maxWidth%22%3A%20%22100%25%22%7D%29%3B%0A%0A%20%20%20%20%20%20%20%20%0A%20%20%20%20%20%20%20%20%20%20%20%20var%20html_2a616160e78341b09e33a5786f52a7b5%20%3D%20%24%28%60%3Cdiv%20id%3D%22html_2a616160e78341b09e33a5786f52a7b5%22%20style%3D%22width%3A%20100.0%25%3B%20height%3A%20100.0%25%3B%22%3ELand%20%26%20Sea%20Restaurant%20%26%20Bar%3C/div%3E%60%29%5B0%5D%3B%0A%20%20%20%20%20%20%20%20%20%20%20%20popup_b68237a2f3724becb837ed39f12a8d13.setContent%28html_2a616160e78341b09e33a5786f52a7b5%29%3B%0A%20%20%20%20%20%20%20%20%0A%0A%20%20%20%20%20%20%20%20marker_303215ff06e742949dc1da5b1193aa1b.bindPopup%28popup_b68237a2f3724becb837ed39f12a8d13%29%0A%20%20%20%20%20%20%20%20%3B%0A%0A%20%20%20%20%20%20%20%20%0A%20%20%20%20%0A%20%20%20%20%0A%20%20%20%20%20%20%20%20%20%20%20%20marker_303215ff06e742949dc1da5b1193aa1b.bindTooltip%28%0A%20%20%20%20%20%20%20%20%20%20%20%20%20%20%20%20%60%3Cdiv%3E%0A%20%20%20%20%20%20%20%20%20%20%20%20%20%20%20%20%20%20%20%20%204%0A%20%20%20%20%20%20%20%20%20%20%20%20%20%20%20%20%20%3C/div%3E%60%2C%0A%20%20%20%20%20%20%20%20%20%20%20%20%20%20%20%20%7B%22sticky%22%3A%20true%7D%0A%20%20%20%20%20%20%20%20%20%20%20%20%29%3B%0A%20%20%20%20%20%20%20%20%0A%20%20%20%20%0A%20%20%20%20%20%20%20%20%20%20%20%20var%20marker_b535a5924f42461a8e76bcdc6029f143%20%3D%20L.marker%28%0A%20%20%20%20%20%20%20%20%20%20%20%20%20%20%20%20%5B49.2347764%2C%20-123.1592823%5D%2C%0A%20%20%20%20%20%20%20%20%20%20%20%20%20%20%20%20%7B%7D%0A%20%20%20%20%20%20%20%20%20%20%20%20%29.addTo%28map_882caf9c518b43208efa7271e20f3add%29%3B%0A%20%20%20%20%20%20%20%20%0A%20%20%20%20%0A%20%20%20%20%20%20%20%20var%20popup_1534a5eb4a084f43b081e936c00b7d9a%20%3D%20L.popup%28%7B%22maxWidth%22%3A%20%22100%25%22%7D%29%3B%0A%0A%20%20%20%20%20%20%20%20%0A%20%20%20%20%20%20%20%20%20%20%20%20var%20html_67d92cb577844f58ab265cb2cbfd1c3e%20%3D%20%24%28%60%3Cdiv%20id%3D%22html_67d92cb577844f58ab265cb2cbfd1c3e%22%20style%3D%22width%3A%20100.0%25%3B%20height%3A%20100.0%25%3B%22%3EKokoro%20Tokyo%20Mazesoba%20-%20Kerrisdale%3C/div%3E%60%29%5B0%5D%3B%0A%20%20%20%20%20%20%20%20%20%20%20%20popup_1534a5eb4a084f43b081e936c00b7d9a.setContent%28html_67d92cb577844f58ab265cb2cbfd1c3e%29%3B%0A%20%20%20%20%20%20%20%20%0A%0A%20%20%20%20%20%20%20%20marker_b535a5924f42461a8e76bcdc6029f143.bindPopup%28popup_1534a5eb4a084f43b081e936c00b7d9a%29%0A%20%20%20%20%20%20%20%20%3B%0A%0A%20%20%20%20%20%20%20%20%0A%20%20%20%20%0A%20%20%20%20%0A%20%20%20%20%20%20%20%20%20%20%20%20marker_b535a5924f42461a8e76bcdc6029f143.bindTooltip%28%0A%20%20%20%20%20%20%20%20%20%20%20%20%20%20%20%20%60%3Cdiv%3E%0A%20%20%20%20%20%20%20%20%20%20%20%20%20%20%20%20%20%20%20%20%205%0A%20%20%20%20%20%20%20%20%20%20%20%20%20%20%20%20%20%3C/div%3E%60%2C%0A%20%20%20%20%20%20%20%20%20%20%20%20%20%20%20%20%7B%22sticky%22%3A%20true%7D%0A%20%20%20%20%20%20%20%20%20%20%20%20%29%3B%0A%20%20%20%20%20%20%20%20%0A%20%20%20%20%0A%20%20%20%20%20%20%20%20%20%20%20%20var%20marker_fb001dce82b04998b1e56e8e85fbfccd%20%3D%20L.marker%28%0A%20%20%20%20%20%20%20%20%20%20%20%20%20%20%20%20%5B49.2341819%2C%20-123.1401924%5D%2C%0A%20%20%20%20%20%20%20%20%20%20%20%20%20%20%20%20%7B%7D%0A%20%20%20%20%20%20%20%20%20%20%20%20%29.addTo%28map_882caf9c518b43208efa7271e20f3add%29%3B%0A%20%20%20%20%20%20%20%20%0A%20%20%20%20%0A%20%20%20%20%20%20%20%20var%20popup_4e7596a16d17407388f73252196965bf%20%3D%20L.popup%28%7B%22maxWidth%22%3A%20%22100%25%22%7D%29%3B%0A%0A%20%20%20%20%20%20%20%20%0A%20%20%20%20%20%20%20%20%20%20%20%20var%20html_f672e811a3a44ef1ae2b4d74cce56df2%20%3D%20%24%28%60%3Cdiv%20id%3D%22html_f672e811a3a44ef1ae2b4d74cce56df2%22%20style%3D%22width%3A%20100.0%25%3B%20height%3A%20100.0%25%3B%22%3EHikari%20Cafe%3C/div%3E%60%29%5B0%5D%3B%0A%20%20%20%20%20%20%20%20%20%20%20%20popup_4e7596a16d17407388f73252196965bf.setContent%28html_f672e811a3a44ef1ae2b4d74cce56df2%29%3B%0A%20%20%20%20%20%20%20%20%0A%0A%20%20%20%20%20%20%20%20marker_fb001dce82b04998b1e56e8e85fbfccd.bindPopup%28popup_4e7596a16d17407388f73252196965bf%29%0A%20%20%20%20%20%20%20%20%3B%0A%0A%20%20%20%20%20%20%20%20%0A%20%20%20%20%0A%20%20%20%20%0A%20%20%20%20%20%20%20%20%20%20%20%20marker_fb001dce82b04998b1e56e8e85fbfccd.bindTooltip%28%0A%20%20%20%20%20%20%20%20%20%20%20%20%20%20%20%20%60%3Cdiv%3E%0A%20%20%20%20%20%20%20%20%20%20%20%20%20%20%20%20%20%20%20%20%206%0A%20%20%20%20%20%20%20%20%20%20%20%20%20%20%20%20%20%3C/div%3E%60%2C%0A%20%20%20%20%20%20%20%20%20%20%20%20%20%20%20%20%7B%22sticky%22%3A%20true%7D%0A%20%20%20%20%20%20%20%20%20%20%20%20%29%3B%0A%20%20%20%20%20%20%20%20%0A%20%20%20%20%0A%20%20%20%20%20%20%20%20%20%20%20%20var%20marker_c6cec16345f84e19922c4f6b3ae7c767%20%3D%20L.marker%28%0A%20%20%20%20%20%20%20%20%20%20%20%20%20%20%20%20%5B49.2339329%2C%20-123.1399534%5D%2C%0A%20%20%20%20%20%20%20%20%20%20%20%20%20%20%20%20%7B%7D%0A%20%20%20%20%20%20%20%20%20%20%20%20%29.addTo%28map_882caf9c518b43208efa7271e20f3add%29%3B%0A%20%20%20%20%20%20%20%20%0A%20%20%20%20%0A%20%20%20%20%20%20%20%20var%20popup_e7a8fb98750c423e928c4ec691b0ad8f%20%3D%20L.popup%28%7B%22maxWidth%22%3A%20%22100%25%22%7D%29%3B%0A%0A%20%20%20%20%20%20%20%20%0A%20%20%20%20%20%20%20%20%20%20%20%20var%20html_83e1dc7099674f7f90c041b4e74cbedc%20%3D%20%24%28%60%3Cdiv%20id%3D%22html_83e1dc7099674f7f90c041b4e74cbedc%22%20style%3D%22width%3A%20100.0%25%3B%20height%3A%20100.0%25%3B%22%3ETao%27s%20Kitchen%3C/div%3E%60%29%5B0%5D%3B%0A%20%20%20%20%20%20%20%20%20%20%20%20popup_e7a8fb98750c423e928c4ec691b0ad8f.setContent%28html_83e1dc7099674f7f90c041b4e74cbedc%29%3B%0A%20%20%20%20%20%20%20%20%0A%0A%20%20%20%20%20%20%20%20marker_c6cec16345f84e19922c4f6b3ae7c767.bindPopup%28popup_e7a8fb98750c423e928c4ec691b0ad8f%29%0A%20%20%20%20%20%20%20%20%3B%0A%0A%20%20%20%20%20%20%20%20%0A%20%20%20%20%0A%20%20%20%20%0A%20%20%20%20%20%20%20%20%20%20%20%20marker_c6cec16345f84e19922c4f6b3ae7c767.bindTooltip%28%0A%20%20%20%20%20%20%20%20%20%20%20%20%20%20%20%20%60%3Cdiv%3E%0A%20%20%20%20%20%20%20%20%20%20%20%20%20%20%20%20%20%20%20%20%207%0A%20%20%20%20%20%20%20%20%20%20%20%20%20%20%20%20%20%3C/div%3E%60%2C%0A%20%20%20%20%20%20%20%20%20%20%20%20%20%20%20%20%7B%22sticky%22%3A%20true%7D%0A%20%20%20%20%20%20%20%20%20%20%20%20%29%3B%0A%20%20%20%20%20%20%20%20%0A%20%20%20%20%0A%20%20%20%20%20%20%20%20%20%20%20%20var%20marker_2ca302f6f8b541689d7bd512a81696ba%20%3D%20L.marker%28%0A%20%20%20%20%20%20%20%20%20%20%20%20%20%20%20%20%5B49.2338978%2C%20-123.1540943%5D%2C%0A%20%20%20%20%20%20%20%20%20%20%20%20%20%20%20%20%7B%7D%0A%20%20%20%20%20%20%20%20%20%20%20%20%29.addTo%28map_882caf9c518b43208efa7271e20f3add%29%3B%0A%20%20%20%20%20%20%20%20%0A%20%20%20%20%0A%20%20%20%20%20%20%20%20var%20popup_8c13eb9e5080456796a3a1c6dc68a6ff%20%3D%20L.popup%28%7B%22maxWidth%22%3A%20%22100%25%22%7D%29%3B%0A%0A%20%20%20%20%20%20%20%20%0A%20%20%20%20%20%20%20%20%20%20%20%20var%20html_23d3a436750d4517ac549880c72ebc30%20%3D%20%24%28%60%3Cdiv%20id%3D%22html_23d3a436750d4517ac549880c72ebc30%22%20style%3D%22width%3A%20100.0%25%3B%20height%3A%20100.0%25%3B%22%3ESushi%20Bar%20Ajisai%3C/div%3E%60%29%5B0%5D%3B%0A%20%20%20%20%20%20%20%20%20%20%20%20popup_8c13eb9e5080456796a3a1c6dc68a6ff.setContent%28html_23d3a436750d4517ac549880c72ebc30%29%3B%0A%20%20%20%20%20%20%20%20%0A%0A%20%20%20%20%20%20%20%20marker_2ca302f6f8b541689d7bd512a81696ba.bindPopup%28popup_8c13eb9e5080456796a3a1c6dc68a6ff%29%0A%20%20%20%20%20%20%20%20%3B%0A%0A%20%20%20%20%20%20%20%20%0A%20%20%20%20%0A%20%20%20%20%0A%20%20%20%20%20%20%20%20%20%20%20%20marker_2ca302f6f8b541689d7bd512a81696ba.bindTooltip%28%0A%20%20%20%20%20%20%20%20%20%20%20%20%20%20%20%20%60%3Cdiv%3E%0A%20%20%20%20%20%20%20%20%20%20%20%20%20%20%20%20%20%20%20%20%208%0A%20%20%20%20%20%20%20%20%20%20%20%20%20%20%20%20%20%3C/div%3E%60%2C%0A%20%20%20%20%20%20%20%20%20%20%20%20%20%20%20%20%7B%22sticky%22%3A%20true%7D%0A%20%20%20%20%20%20%20%20%20%20%20%20%29%3B%0A%20%20%20%20%20%20%20%20%0A%20%20%20%20%0A%20%20%20%20%20%20%20%20%20%20%20%20var%20marker_c6dee34f2747418a8a78e1442f67b435%20%3D%20L.marker%28%0A%20%20%20%20%20%20%20%20%20%20%20%20%20%20%20%20%5B49.234785%2C%20-123.15673%5D%2C%0A%20%20%20%20%20%20%20%20%20%20%20%20%20%20%20%20%7B%7D%0A%20%20%20%20%20%20%20%20%20%20%20%20%29.addTo%28map_882caf9c518b43208efa7271e20f3add%29%3B%0A%20%20%20%20%20%20%20%20%0A%20%20%20%20%0A%20%20%20%20%20%20%20%20var%20popup_740ea1d294a04da69a04285dd86e126a%20%3D%20L.popup%28%7B%22maxWidth%22%3A%20%22100%25%22%7D%29%3B%0A%0A%20%20%20%20%20%20%20%20%0A%20%20%20%20%20%20%20%20%20%20%20%20var%20html_5b2edc9f8f3c4e34aa9e1f8f6e41d071%20%3D%20%24%28%60%3Cdiv%20id%3D%22html_5b2edc9f8f3c4e34aa9e1f8f6e41d071%22%20style%3D%22width%3A%20100.0%25%3B%20height%3A%20100.0%25%3B%22%3EBaan%20Wasana%20Thai%20Restaurant%3C/div%3E%60%29%5B0%5D%3B%0A%20%20%20%20%20%20%20%20%20%20%20%20popup_740ea1d294a04da69a04285dd86e126a.setContent%28html_5b2edc9f8f3c4e34aa9e1f8f6e41d071%29%3B%0A%20%20%20%20%20%20%20%20%0A%0A%20%20%20%20%20%20%20%20marker_c6dee34f2747418a8a78e1442f67b435.bindPopup%28popup_740ea1d294a04da69a04285dd86e126a%29%0A%20%20%20%20%20%20%20%20%3B%0A%0A%20%20%20%20%20%20%20%20%0A%20%20%20%20%0A%20%20%20%20%0A%20%20%20%20%20%20%20%20%20%20%20%20marker_c6dee34f2747418a8a78e1442f67b435.bindTooltip%28%0A%20%20%20%20%20%20%20%20%20%20%20%20%20%20%20%20%60%3Cdiv%3E%0A%20%20%20%20%20%20%20%20%20%20%20%20%20%20%20%20%20%20%20%20%209%0A%20%20%20%20%20%20%20%20%20%20%20%20%20%20%20%20%20%3C/div%3E%60%2C%0A%20%20%20%20%20%20%20%20%20%20%20%20%20%20%20%20%7B%22sticky%22%3A%20true%7D%0A%20%20%20%20%20%20%20%20%20%20%20%20%29%3B%0A%20%20%20%20%20%20%20%20%0A%3C/script%3E onload=\"this.contentDocument.open();this.contentDocument.write(    decodeURIComponent(this.getAttribute('data-html')));this.contentDocument.close();\" allowfullscreen webkitallowfullscreen mozallowfullscreen></iframe></div></div>"
      ],
      "text/plain": [
       "<folium.folium.Map at 0x7f1ffd69a290>"
      ]
     },
     "execution_count": 91,
     "metadata": {},
     "output_type": "execute_result"
    }
   ],
   "source": [
    "import folium\n",
    "\n",
    "my_map = folium.Map(\n",
    "    location=[49.234456,-123.155144],\n",
    "    zoom_start=14\n",
    ")\n",
    "for _, loc in t10_df.iterrows():\n",
    "    folium.Marker(\n",
    "        location=[loc['lat'], loc['lng']],\n",
    "        popup=loc['name'],\n",
    "        tooltip=loc['rank']\n",
    "    ).add_to(my_map)\n",
    "\n",
    "my_map"
   ]
  },
  {
   "cell_type": "markdown",
   "metadata": {},
   "source": [
    "### Discussion\n",
    "* YELP API did not do a great job on finding the best restaurants in the Kerrisdale community. (No website info?)\n",
    "\n",
    "* FOURSQURE returns the most results 99 (compare to YELP with 66, and GOOGLE with 60), and the quality of the query is good.\n",
    "\n",
    "* Google seems to have the largest coverage of the area, but stuck with a 60 query results hard limit. Also, they only reply 20 results/request, and need three requests to do the job. (Corporate greed at play!)\n",
    "\n",
    "* Wish there would be a unified data structure for all these APIs. Currently, it seems every player is building its own set.\n",
    "\n",
    "* If I had more time:\n",
    "    * I will definitely refine my search criteria to get more accurate data;\n",
    "    * Reorganize/Recreate my SQL tables. The data I selected to store may not be representative for my database;\n",
    "    * Make better comparisons between APIs, from different perspectives;\n",
    "    * Learn how to use visualization tools to better present my results."
   ]
  },
  {
   "cell_type": "markdown",
   "metadata": {},
   "source": [
    "Presentation skills  \\\n",
    "quality of data: relevance, domain_knowledge, duplicates of data  \\\n",
    "apples to apples even though losing info during process, e.g. 10 points to 5 stars  \\\n",
    "watch out for empty and NAN cells  \\\n",
    "Crowd sourced database is sus, popularity is not a solid relevance"
   ]
  },
  {
   "cell_type": "markdown",
   "metadata": {},
   "source": [
    "1. Use APIs/tools in Python. <span style='color:red'>structure, store, access data</span>\n",
    "2. Figure out things that are not working. Read docs, look for mentors. Debugging."
   ]
  },
  {
   "cell_type": "markdown",
   "metadata": {},
   "source": [
    "##### Summary functions in Seaborn"
   ]
  },
  {
   "cell_type": "markdown",
   "metadata": {},
   "source": []
  },
  {
   "cell_type": "markdown",
   "metadata": {},
   "source": []
  },
  {
   "cell_type": "markdown",
   "metadata": {},
   "source": []
  },
  {
   "cell_type": "markdown",
   "metadata": {},
   "source": []
  },
  {
   "cell_type": "markdown",
   "metadata": {},
   "source": []
  },
  {
   "cell_type": "markdown",
   "metadata": {},
   "source": []
  },
  {
   "cell_type": "markdown",
   "metadata": {},
   "source": []
  },
  {
   "cell_type": "code",
   "execution_count": null,
   "metadata": {},
   "outputs": [],
   "source": [
    "t10_restaurants = [\n",
    "    {'rank': 1, 'rating': t10_df['rating'][0], 'name': t10_df['name'][0], 'location': (49.236033,-123.155774)},\n",
    "    {'rank': 2, 'rating': t10_df['rating'][1], 'name': t10_df['name'][1], 'location': (49.233200,-123.155448)},\n",
    "    {'rank': 3, 'rating': t10_df['rating'][2], 'name': t10_df['name'][2], 'location': (49.237795,-123.155628)},\n",
    "    {'rank': 4, 'rating': t10_df['rating'][3], 'name': t10_df['name'][3], 'location': (49.242562,-123.170108)},\n",
    "    {'rank': 5, 'rating': t10_df['rating'][4], 'name': t10_df['name'][4], 'location': (49.219346,-123.149315)},\n",
    "    {'rank': 6, 'rating': t10_df['rating'][5], 'name': t10_df['name'][5], 'location': (49.234776,-123.159282)},\n",
    "    {'rank': 7, 'rating': t10_df['rating'][6], 'name': t10_df['name'][6], 'location': (49.234182,-123.140192)},\n",
    "    {'rank': 8, 'rating': t10_df['rating'][7], 'name': t10_df['name'][7], 'location': (49.233933,-123.139953)},\n",
    "    {'rank': 9, 'rating': t10_df['rating'][8], 'name': t10_df['name'][8], 'location': (49.233898,-123.154094)},\n",
    "    {'rank': 10, 'rating': t10_df['rating'][9], 'name': t10_df['name'][9], 'location': (49.234785,-123.156730)}\n",
    "]\n",
    "\n",
    "t10_locations = t10_df[['lat', 'lng']]\n",
    "t10_ranks = t10_df.index\n",
    "t10_names = t10_df['name']\n",
    "\n",
    "info_box_template = \"\"\"\n",
    "<dl>\n",
    "<dt>Rank</dt><dd>{rank}</dd>\n",
    "<dt>Name</dt><dd>{name}</dd>\n",
    "<dt>Rating</dt><dd>{rating}</dd>\n",
    "</dl>\n",
    "\"\"\"\n",
    "# t10_info = [info_box_template.format(**rest) for rest in t10_restaurants]\n",
    "\n",
    "# marker_layer = gmaps.marker_layer(t10_locations, info_box_content=t10_info)\n",
    "# marker_layer = gmaps.marker_layer(locations=t10_locations, hover_text=t10_names, label=t10_ranks)\n",
    "marker_layer = gmaps.marker_layer(locations)\n",
    "# fig = gmaps.figure()\n",
    "# fig.add_layer(marker_layer)\n",
    "# fig"
   ]
  }
 ],
 "metadata": {
  "kernelspec": {
   "display_name": "lhl_work",
   "language": "python",
   "name": "lhl_work"
  },
  "language_info": {
   "codemirror_mode": {
    "name": "ipython",
    "version": 3
   },
   "file_extension": ".py",
   "mimetype": "text/x-python",
   "name": "python",
   "nbconvert_exporter": "python",
   "pygments_lexer": "ipython3",
   "version": "3.10.0"
  },
  "orig_nbformat": 4
 },
 "nbformat": 4,
 "nbformat_minor": 2
}
